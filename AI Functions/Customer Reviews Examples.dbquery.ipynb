{
 "cells": [
  {
   "cell_type": "code",
   "execution_count": 0,
   "metadata": {
    "application/vnd.databricks.v1+cell": {
     "cellMetadata": {
      "byteLimit": 10485760,
      "rowLimit": 1000
     },
     "inputWidgets": {},
     "nuid": "b49232c5-100e-4413-90d2-cd34991ee49b",
     "showTitle": false,
     "tableResultSettingsMap": {},
     "title": ""
    }
   },
   "outputs": [
    {
     "output_type": "display_data",
     "data": {
      "text/plain": [
       "Databricks visualization. Run in Databricks to view."
      ]
     },
     "metadata": {
      "application/vnd.databricks.v1.subcommand+json": {
       "baseErrorDetails": null,
       "bindings": {},
       "collapsed": false,
       "command": "%sql WITH q AS (CREATE OR REPLACE MATERIALIZED VIEW gshen_eia_catalog.eia_silver.customer_reviews_sentiment_classification AS\n  SELECT\n    *, \n    ai_analyze_sentiment(review) AS review_sentiment,  \n    ai_classify(\n      review, \n      ARRAY(\n        \"Food & Beverage\",\n        \"Signage & Wayfinding\",\n        \"Technology & Charging\",\n        \"Comfort & Seating\",\n        \"Ground Transportation\",\n        \"Cleanliness & Facilities\",\n        \"Baggage Handling\",\n        \"Customer Service\",\n        \"Accessibility & Inclusion\",\n        \"Amenities & Entertainment\"\n      )\n    ) AS improvement_category,  \n    ai_query(\n      \"databricks-claude-3-7-sonnet\",\n      \"Write a professional and friendly response to thank the reviewer for their feedback. \"\n      || \"Acknowledge the sentiment and main points they raised, and offer appreciation or reassurance if necessary. \"\n      || \"Use a warm, respectful tone: \" \n      || review\n    ) AS review_response  \n  FROM\n    gshen_eia_catalog.eia_bronze.customer_reviews) SELECT `review_sentiment`,COUNT(*) `column_19be32d6540`,`improvement_category` FROM q GROUP BY `improvement_category`,`review_sentiment`",
       "commandTitle": "Visualization 1",
       "commandType": "auto",
       "commandVersion": 0,
       "commentThread": [],
       "commentsVisible": false,
       "contentSha256Hex": null,
       "customPlotOptions": {
        "redashChart": [
         {
          "key": "type",
          "value": "CHART"
         },
         {
          "key": "options",
          "value": {
           "alignYAxesAtZero": true,
           "coefficient": 1,
           "columnConfigurationMap": {
            "series": {
             "column": "improvement_category",
             "id": "column_19be32d6542"
            },
            "x": {
             "column": "review_sentiment",
             "id": "column_19be32d6539"
            },
            "y": [
             {
              "column": "*",
              "id": "column_19be32d6540",
              "transform": "COUNT"
             }
            ]
           },
           "dateTimeFormat": "DD/MM/YYYY HH:mm",
           "direction": {
            "type": "counterclockwise"
           },
           "error_y": {
            "type": "data",
            "visible": true
           },
           "globalSeriesType": "pie",
           "isAggregationOn": true,
           "legend": {
            "traceorder": "normal"
           },
           "missingValuesAsZero": true,
           "numberFormat": "0,0.[00000]",
           "percentFormat": "0[.]00%",
           "series": {
            "error_y": {
             "type": "data",
             "visible": true
            },
            "stacking": null
           },
           "seriesOptions": {
            "column_19be32d6540": {
             "type": "pie",
             "yAxis": 0
            }
           },
           "showDataLabels": true,
           "sizemode": "diameter",
           "sortX": true,
           "sortY": true,
           "swappedAxes": false,
           "textFormat": "",
           "useAggregationsUi": true,
           "valuesOptions": {
            "mixed": {
             "color": "#FCA4A1"
            },
            "negative": {
             "color": "#FF3621"
            },
            "neutral": {
             "color": "#FFAB00"
            },
            "positive": {
             "color": "#00A972"
            }
           },
           "version": 2,
           "xAxis": {
            "labels": {
             "enabled": true
            },
            "type": "-"
           },
           "yAxis": [
            {
             "type": "-"
            },
            {
             "opposite": true,
             "type": "-"
            }
           ]
          }
         }
        ]
       },
       "datasetPreviewNameToCmdIdMap": {},
       "diffDeletes": [],
       "diffInserts": [],
       "displayType": "redashChart",
       "error": null,
       "errorDetails": null,
       "errorSummary": null,
       "errorTraceType": null,
       "finishTime": 0,
       "globalVars": {},
       "guid": "",
       "height": "auto",
       "hideCommandCode": false,
       "hideCommandResult": false,
       "iPythonMetadata": null,
       "inputWidgets": {},
       "isLockedInExamMode": false,
       "latestUser": "a user",
       "latestUserId": null,
       "listResultMetadata": null,
       "metadata": {},
       "nuid": "60659ff8-1ba9-41b6-ba2a-2689473ce56b",
       "origId": 0,
       "parentHierarchy": [],
       "pivotAggregation": null,
       "pivotColumns": null,
       "position": 2.0,
       "resultDbfsErrorMessage": null,
       "resultDbfsStatus": "INLINED_IN_TREE",
       "results": null,
       "showCommandTitle": false,
       "startTime": 0,
       "state": "input",
       "streamStates": {},
       "subcommandOptions": {
        "queryPlan": {
         "groups": [
          {
           "column": "review_sentiment",
           "type": "column"
          },
          {
           "column": "improvement_category",
           "type": "column"
          }
         ],
         "selects": [
          {
           "column": "review_sentiment",
           "type": "column"
          },
          {
           "alias": "column_19be32d6540",
           "args": [
            {
             "column": "*",
             "type": "column"
            }
           ],
           "function": "COUNT",
           "type": "function"
          },
          {
           "column": "improvement_category",
           "type": "column"
          }
         ]
        },
        "redashId": "8d6f7b0f-b683-4de3-93cb-e9596b0df5c8",
        "redashLastUpdated": 1750906431000
       },
       "submitTime": 0,
       "subtype": "tableResultSubCmd.visualization",
       "tableResultIndex": 0,
       "tableResultSettingsMap": {},
       "useConsistentColors": false,
       "version": "CommandV1",
       "width": "auto",
       "workflows": null,
       "xColumns": null,
       "yColumns": null
      }
     },
     "output_type": "display_data"
    }
   ],
   "source": [
    "-- Step 1: Retrieve all customer reviews from the bronze layer\n",
    "  SELECT \n",
    "    * \n",
    "  FROM \n",
    "    gshen_catalog.yvr_airport.customer_reviews;\n",
    "\n",
    "\n",
    "  -- Step 2: Analyze sentiment of each review using AI\n",
    "  SELECT \n",
    "    *, \n",
    "    ai_analyze_sentiment(review) AS review_sentiment  -- Returns sentiment (e.g., positive, neutral, negative)\n",
    "  FROM \n",
    "    gshen_catalog.yvr_airport.customer_reviews;\n",
    "\n",
    "\n",
    "  -- Step 3: Analyze sentiment and classify each review into an improvement category\n",
    "  SELECT\n",
    "    *, \n",
    "    ai_analyze_sentiment(review) AS review_sentiment,  -- Analyze review tone\n",
    "    ai_classify(\n",
    "      review, \n",
    "      ARRAY(\n",
    "        \"Food & Beverage\",\n",
    "        \"Signage & Wayfinding\",\n",
    "        \"Technology & Charging\",\n",
    "        \"Comfort & Seating\",\n",
    "        \"Ground Transportation\",\n",
    "        \"Cleanliness & Facilities\",\n",
    "        \"Baggage Handling\",\n",
    "        \"Customer Service\",\n",
    "        \"Accessibility & Inclusion\",\n",
    "        \"Amenities & Entertainment\"\n",
    "      )\n",
    "    ) AS improvement_category  -- Classify review into one or more thematic areas\n",
    "  FROM\n",
    "    gshen_catalog.yvr_airport.customer_reviews;\n",
    "\n",
    "\n",
    "  -- Step 4: Analyze sentiment, classify category, and generate an AI-powered response to the reviewer\n",
    "  SELECT\n",
    "    *, \n",
    "    ai_analyze_sentiment(review) AS review_sentiment,  -- Sentiment analysis\n",
    "    ai_classify(\n",
    "      review, \n",
    "      ARRAY(\n",
    "        \"Food & Beverage\",\n",
    "        \"Signage & Wayfinding\",\n",
    "        \"Technology & Charging\",\n",
    "        \"Comfort & Seating\",\n",
    "        \"Ground Transportation\",\n",
    "        \"Cleanliness & Facilities\",\n",
    "        \"Baggage Handling\",\n",
    "        \"Customer Service\",\n",
    "        \"Accessibility & Inclusion\",\n",
    "        \"Amenities & Entertainment\"\n",
    "      )\n",
    "    ) AS improvement_category,  -- Thematic classification\n",
    "    ai_query(\n",
    "      \"databricks-claude-3-7-sonnet\",\n",
    "      \"Write a professional and friendly response to thank the reviewer for their feedback. \"\n",
    "      || \"Acknowledge the sentiment and main points they raised, and offer appreciation or reassurance if necessary. \"\n",
    "      || \"Use a warm, respectful tone: \" \n",
    "      || review\n",
    "    ) AS review_response  -- Generate a personalized thank-you message\n",
    "  FROM\n",
    "    gshen_catalog.yvr_airport.customer_reviews;\n",
    "\n",
    "  -- Step 5: Analyze sentiment, classify category, and generate an AI-powered response to the reviewer\n",
    "  CREATE OR REPLACE MATERIALIZED VIEW gshen_catalog.yvr_airport.customer_reviews_sentiment_classification AS\n",
    "  SELECT\n",
    "    *, \n",
    "    ai_analyze_sentiment(review) AS review_sentiment,  -- Sentiment analysis\n",
    "    ai_classify(\n",
    "      review, \n",
    "      ARRAY(\n",
    "        \"Food & Beverage\",\n",
    "        \"Signage & Wayfinding\",\n",
    "        \"Technology & Charging\",\n",
    "        \"Comfort & Seating\",\n",
    "        \"Ground Transportation\",\n",
    "        \"Cleanliness & Facilities\",\n",
    "        \"Baggage Handling\",\n",
    "        \"Customer Service\",\n",
    "        \"Accessibility & Inclusion\",\n",
    "        \"Amenities & Entertainment\"\n",
    "      )\n",
    "    ) AS improvement_category,  -- Thematic classification\n",
    "    ai_query(\n",
    "      \"databricks-claude-3-7-sonnet\",\n",
    "      \"Write a professional and friendly response to thank the reviewer for their feedback. \"\n",
    "      || \"Acknowledge the sentiment and main points they raised, and offer appreciation or reassurance if necessary. \"\n",
    "      || \"Use a warm, respectful tone: \" \n",
    "      || review\n",
    "    ) AS review_response  -- Generate a personalized thank-you message\n",
    "  FROM\n",
    "    gshen_catalog.yvr_airport.customer_reviews;\n"
   ]
  }
 ],
 "metadata": {
  "application/vnd.databricks.v1+notebook": {
   "computePreferences": null,
   "dashboards": [],
   "environmentMetadata": null,
   "inputWidgetPreferences": null,
   "language": "sql",
   "notebookMetadata": {
    "pythonIndentUnit": 2,
    "sqlQueryOptions": {
     "applyAutoLimit": true,
     "catalog": "main",
     "schema": "default"
    }
   },
   "notebookName": "Customer Reviews Examples.dbquery.ipynb",
   "widgets": {}
  },
  "language_info": {
   "name": "sql"
  }
 },
 "nbformat": 4,
 "nbformat_minor": 0
}
