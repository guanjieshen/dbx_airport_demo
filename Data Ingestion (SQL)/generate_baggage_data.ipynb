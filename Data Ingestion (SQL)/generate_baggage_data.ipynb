{
 "cells": [
  {
   "cell_type": "markdown",
   "metadata": {
    "application/vnd.databricks.v1+cell": {
     "cellMetadata": {},
     "inputWidgets": {},
     "nuid": "341760c8-f5c3-45eb-a6ce-32d61fbccde9",
     "showTitle": false,
     "tableResultSettingsMap": {},
     "title": ""
    }
   },
   "source": [
    "### Define Simulation Targets"
   ]
  },
  {
   "cell_type": "code",
   "execution_count": 0,
   "metadata": {
    "application/vnd.databricks.v1+cell": {
     "cellMetadata": {
      "byteLimit": 2048000,
      "rowLimit": 10000
     },
     "inputWidgets": {},
     "nuid": "5cf6341e-cf89-47dd-be74-bc5c866ab5b8",
     "showTitle": false,
     "tableResultSettingsMap": {},
     "title": ""
    }
   },
   "outputs": [],
   "source": [
    "dbutils.widgets.text(\"volume_path\", \"/Volumes/gshen_catalog/yvr_airport/bag_files/\", \"Volume Path\")\n",
    "dbutils.widgets.text(\"passenger_table\", \"gshen_catalog.yvr_airport.passenger_details_yvr\", \"Passenger Table\")\n",
    "dbutils.widgets.text(\"flight_table\", \"gshen_catalog.yvr_airport.flight_details_yvr\", \"Flight Table\")\n",
    "dbutils.widgets.text(\"gate_table\", \"gshen_catalog.yvr_airport.gate_assignments_yvr\", \"Gate Table\")"
   ]
  },
  {
   "cell_type": "markdown",
   "metadata": {
    "application/vnd.databricks.v1+cell": {
     "cellMetadata": {
      "byteLimit": 2048000,
      "rowLimit": 10000
     },
     "inputWidgets": {},
     "nuid": "238b7f2e-76dd-4575-9e78-64401b9c3a92",
     "showTitle": false,
     "tableResultSettingsMap": {},
     "title": ""
    }
   },
   "source": [
    "### Clear Everything "
   ]
  },
  {
   "cell_type": "code",
   "execution_count": 0,
   "metadata": {
    "application/vnd.databricks.v1+cell": {
     "cellMetadata": {
      "byteLimit": 2048000,
      "rowLimit": 10000
     },
     "inputWidgets": {},
     "nuid": "696e6fa5-9c7c-4f37-9e0d-7cbc6ff090b6",
     "showTitle": false,
     "tableResultSettingsMap": {},
     "title": ""
    }
   },
   "outputs": [],
   "source": [
    "# dbutils.fs.rm(\"/Volumes/gshen_catalog/yvr_airport/bag_files\", recurse=True)"
   ]
  },
  {
   "cell_type": "code",
   "execution_count": 0,
   "metadata": {
    "application/vnd.databricks.v1+cell": {
     "cellMetadata": {
      "byteLimit": 2048000,
      "implicitDf": true,
      "rowLimit": 10000
     },
     "inputWidgets": {},
     "nuid": "c49a88c2-3f91-4148-b571-69a06c97120d",
     "showTitle": false,
     "tableResultSettingsMap": {},
     "title": ""
    }
   },
   "outputs": [],
   "source": [
    "%sql\n",
    "-- DROP TABLE IF EXISTS gshen_catalog.yvr_airport.passenger_details_yvr;\n",
    "-- DROP TABLE IF EXISTS gshen_catalog.yvr_airport.baggage_data_stream;\n",
    "-- DROP TABLE IF EXISTS gshen_catalog.yvr_airport.flight_details_yvr;\n",
    "-- DROP TABLE IF EXISTS gshen_catalog.yvr_airport.gate_assignments_yvr;"
   ]
  },
  {
   "cell_type": "code",
   "execution_count": 0,
   "metadata": {
    "application/vnd.databricks.v1+cell": {
     "cellMetadata": {
      "byteLimit": 2048000,
      "rowLimit": 10000
     },
     "inputWidgets": {},
     "nuid": "cdc8e0db-beb6-4714-9ded-96fd99f084d0",
     "showTitle": false,
     "tableResultSettingsMap": {},
     "title": ""
    }
   },
   "outputs": [],
   "source": [
    "# Databricks notebook to simulate airport baggage events\n",
    "# Save as CSV files to a Unity Catalog volume\n",
    "\n",
    "from pyspark.sql.functions import current_timestamp\n",
    "import uuid\n",
    "import time\n",
    "from datetime import datetime, timedelta\n",
    "import pandas as pd\n",
    "import os\n",
    "import random\n",
    "\n",
    "class Simulation:\n",
    "    def __init__(self, spark, volume_path, passenger_table, flight_table, gate_table, events_per_batch=20, interval_sec=10, num_batches=5):\n",
    "        self.spark = spark\n",
    "        self.volume_path = volume_path\n",
    "        self.passenger_table = passenger_table\n",
    "        self.flight_table = flight_table\n",
    "        self.gate_table = gate_table\n",
    "        self.events_per_batch = events_per_batch\n",
    "        self.interval_sec = interval_sec\n",
    "        self.num_batches = num_batches\n",
    "        self.airport = \"YVR\"\n",
    "        self.airlines = [\n",
    "            {\"name\": \"Air Canada\", \"code\": \"AC\"},\n",
    "            {\"name\": \"WestJet\", \"code\": \"WS\"},\n",
    "            {\"name\": \"Flair Airlines\", \"code\": \"F8\"},\n",
    "            {\"name\": \"KLM Royal Dutch Airlines\", \"code\": \"KL\"},\n",
    "            {\"name\": \"United Airlines\", \"code\": \"UA\"},\n",
    "            {\"name\": \"Delta Air Lines\", \"code\": \"DL\"},\n",
    "            {\"name\": \"American Airlines\", \"code\": \"AA\"},\n",
    "            {\"name\": \"Lynx Air\", \"code\": \"Y9\"},\n",
    "            {\"name\": \"Porter Airlines\", \"code\": \"PD\"},\n",
    "            {\"name\": \"Sunwing Airlines\", \"code\": \"WG\"},\n",
    "            {\"name\": \"Condor Airlines\", \"code\": \"DE\"},\n",
    "            {\"name\": \"Icelandair\", \"code\": \"FI\"},\n",
    "            {\"name\": \"Swoop\", \"code\": \"WO\"},\n",
    "            {\"name\": \"Air North\", \"code\": \"4N\"}\n",
    "        ]\n",
    "        self.origins = [\n",
    "            \"Toronto\", \"Vancouver\", \"Calgary\", \"Ottawa\", \"Montreal\", \"Halifax\",\n",
    "            \"Winnipeg\", \"Kelowna\", \"Victoria\", \"Regina\", \"Saskatoon\", \"Fort McMurray\",\n",
    "            \"Yellowknife\", \"Whitehorse\", \"Las Vegas\", \"Phoenix\", \"Los Angeles\",\n",
    "            \"Cancun\", \"Amsterdam\", \"Frankfurt\", \"Reykjavik\", \"Chicago\", \"Denver\",\n",
    "            \"Minneapolis\", \"San Francisco\", \"Seattle\"\n",
    "        ]\n",
    "        self.gates = [\n",
    "            \"A1\", \"A2\", \"A3\", \"A4\", \"A5\",\n",
    "            \"B1\", \"B2\", \"B3\", \"B4\",\n",
    "            \"C1\", \"C2\", \"C3\",\n",
    "            \"D1\", \"D2\", \"E1\", \"E2\", \"F1\"\n",
    "        ]\n",
    "        self.status_sequence = [\n",
    "            \"checked_in\", \"security_screened\", \"loaded_on_plane\",\n",
    "            \"in_transit\", \"unloaded\", \"claimed\"\n",
    "        ]\n",
    "        self.baggage_journeys = {}\n",
    "        self.passenger_details = {}\n",
    "        self.flight_actual_arrival = {}\n",
    "        self.flight_passengers = {}\n",
    "\n",
    "    def generate_passenger(self, passenger_id, flight_id, airline_name, origin):\n",
    "        return {\n",
    "            \"passenger_id\": passenger_id,\n",
    "            \"name\": f\"Passenger_{str(passenger_id)[:8]}\",\n",
    "            \"flight_id\": flight_id,\n",
    "            \"airline\": airline_name,\n",
    "            \"origin\": origin,\n",
    "            \"seat_number\": f\"{random.randint(1, 30)}{random.choice(['A','B','C','D','E','F'])}\"\n",
    "        }\n",
    "\n",
    "    def generate_flight_data(self):\n",
    "        flights = []\n",
    "        gates = []\n",
    "        for i, airline in enumerate(self.airlines):\n",
    "            flight_id = f\"{airline['code']}{100 + i}\"\n",
    "            origin = self.origins[i % len(self.origins)]\n",
    "            scheduled_departure = datetime.utcnow() + timedelta(hours=random.randint(1, 12))\n",
    "            scheduled_arrival = scheduled_departure + timedelta(hours=random.randint(2, 8))\n",
    "            delay_minutes = random.choice([0, 0, 15, 30, 45])\n",
    "            actual_arrival = scheduled_arrival + timedelta(minutes=delay_minutes)\n",
    "            flight_status = \"delayed\" if delay_minutes > 0 else \"on_time\"\n",
    "\n",
    "            flights.append({\n",
    "                \"flight_id\": flight_id,\n",
    "                \"airline\": airline['name'],\n",
    "                \"origin\": origin,\n",
    "                \"scheduled_departure\": scheduled_departure.isoformat(),\n",
    "                \"scheduled_arrival\": scheduled_arrival.isoformat(),\n",
    "                \"actual_arrival\": actual_arrival.isoformat(),\n",
    "                \"status\": flight_status\n",
    "            })\n",
    "            self.flight_actual_arrival[flight_id] = actual_arrival\n",
    "\n",
    "            gates.append({\n",
    "                \"flight_id\": flight_id,\n",
    "                \"gate_number\": self.gates[i % len(self.gates)],\n",
    "                \"gate_open_time\": (scheduled_departure - timedelta(minutes=45)).isoformat(),\n",
    "                \"gate_close_time\": (scheduled_departure - timedelta(minutes=5)).isoformat()\n",
    "            })\n",
    "\n",
    "            # Generate 30–100 passengers per flight\n",
    "            num_passengers = random.randint(30, 150)\n",
    "            passengers = []\n",
    "            for _ in range(num_passengers):\n",
    "                passenger_id = str(uuid.uuid4())\n",
    "                passenger = self.generate_passenger(passenger_id, flight_id, airline['name'], origin)\n",
    "                self.passenger_details[passenger_id] = passenger\n",
    "                passengers.append(passenger)\n",
    "            self.flight_passengers[flight_id] = passengers\n",
    "\n",
    "        return pd.DataFrame(flights), pd.DataFrame(gates)\n",
    "\n",
    "    def generate_baggage_events(self, batch_num):\n",
    "        events = []\n",
    "        new_passengers = []\n",
    "        timestamp = datetime.utcnow()\n",
    "\n",
    "        # Progress existing bags in their journey\n",
    "        for bag_id in list(self.baggage_journeys.keys()):\n",
    "            journey = self.baggage_journeys[bag_id]\n",
    "            if journey['status_index'] < len(self.status_sequence):\n",
    "                new_status = self.status_sequence[journey['status_index']]\n",
    "                event_time = timestamp + timedelta(seconds=batch_num * self.interval_sec)\n",
    "                event = {\n",
    "                    \"bag_id\": bag_id,\n",
    "                    \"passenger_id\": journey['passenger_id'],\n",
    "                    \"flight_id\": journey['flight_id'],\n",
    "                    \"airport\": self.airport,\n",
    "                    \"airline\": journey['airline'],\n",
    "                    \"origin\": journey['origin'],\n",
    "                    \"status\": new_status,\n",
    "                    \"weight_kg\": journey['weight_kg'],\n",
    "                    \"event_time\": event_time.isoformat()\n",
    "                }\n",
    "                if new_status == \"claimed\":\n",
    "                    actual_arrival = self.flight_actual_arrival.get(journey['flight_id'])\n",
    "                    if actual_arrival:\n",
    "                        event[\"actual_arrival\"] = actual_arrival.isoformat()\n",
    "                events.append(event)\n",
    "                journey['status_index'] += 1\n",
    "\n",
    "        # Add new bags\n",
    "        available_flights = list(self.flight_passengers.keys())\n",
    "        random.shuffle(available_flights)\n",
    "\n",
    "        for i in range(self.events_per_batch - len(events)):\n",
    "            flight_id = available_flights[i % len(available_flights)]\n",
    "            passengers = self.flight_passengers[flight_id]\n",
    "            unassigned = [p for p in passengers if p['passenger_id'] not in [j['passenger_id'] for j in self.baggage_journeys.values()]]\n",
    "\n",
    "            if not unassigned:\n",
    "                continue  # All passengers on this flight already have bags\n",
    "\n",
    "            passenger = random.choice(unassigned)\n",
    "            passenger_id = passenger['passenger_id']\n",
    "            airline = passenger['airline']\n",
    "            origin = passenger['origin']\n",
    "            weight_kg = round(random.uniform(15.0, 32.0), 2)\n",
    "            bag_id = str(uuid.uuid4())\n",
    "\n",
    "            event = {\n",
    "                \"bag_id\": bag_id,\n",
    "                \"passenger_id\": passenger_id,\n",
    "                \"flight_id\": flight_id,\n",
    "                \"airport\": self.airport,\n",
    "                \"airline\": airline,\n",
    "                \"origin\": origin,\n",
    "                \"status\": self.status_sequence[0],\n",
    "                \"weight_kg\": weight_kg,\n",
    "                \"event_time\": (timestamp + timedelta(seconds=batch_num * self.interval_sec)).isoformat()\n",
    "            }\n",
    "            events.append(event)\n",
    "\n",
    "            self.baggage_journeys[bag_id] = {\n",
    "                \"passenger_id\": passenger_id,\n",
    "                \"flight_id\": flight_id,\n",
    "                \"airline\": airline,\n",
    "                \"origin\": origin,\n",
    "                \"weight_kg\": weight_kg,\n",
    "                \"status_index\": 1\n",
    "            }\n",
    "            new_passengers.append(passenger)\n",
    "\n",
    "        return pd.DataFrame(events), pd.DataFrame(new_passengers)\n",
    "\n",
    "    def run(self):\n",
    "        # Write flight and gate tables\n",
    "        df_flights, df_gates = self.generate_flight_data()\n",
    "        spark_flight_df = self.spark.createDataFrame(df_flights)\n",
    "        spark_flight_df.write.mode(\"overwrite\").format(\"delta\").saveAsTable(self.flight_table)\n",
    "        print(f\"Created flight data in Delta table: {self.flight_table}\")\n",
    "\n",
    "        spark_gate_df = self.spark.createDataFrame(df_gates)\n",
    "        spark_gate_df.write.mode(\"overwrite\").format(\"delta\").saveAsTable(self.gate_table)\n",
    "        print(f\"Created gate assignments in Delta table: {self.gate_table}\")\n",
    "\n",
    "        for batch in range(self.num_batches):\n",
    "            df_events, df_passengers = self.generate_baggage_events(batch)\n",
    "            timestamp_str = datetime.utcnow().strftime(\"%Y%m%d_%H%M%S\")\n",
    "\n",
    "            file_name = f\"baggage_events_{timestamp_str}_batch{batch}.csv\"\n",
    "            output_path = os.path.join(self.volume_path, file_name)\n",
    "            spark_df = self.spark.createDataFrame(df_events)\n",
    "            spark_df.coalesce(1).write.mode(\"overwrite\").option(\"header\", True).csv(output_path)\n",
    "            print(f\"Wrote baggage batch {batch+1} to {output_path}\")\n",
    "\n",
    "            if not df_passengers.empty:\n",
    "                self.write_passenger_data(df_passengers)\n",
    "\n",
    "            time.sleep(self.interval_sec)\n",
    "\n",
    "        print(\"Baggage and passenger simulation complete.\")\n",
    "\n",
    "    def write_passenger_data(self, df_passengers):\n",
    "        spark_passenger_df = self.spark.createDataFrame(df_passengers)\n",
    "        spark_passenger_df.write.mode(\"append\").format(\"delta\").saveAsTable(self.passenger_table)\n",
    "        print(f\"Appended passenger data to Delta table: {self.passenger_table}\")\n",
    "\n",
    "\n",
    "# Instantiate and run the simulation\n",
    "simulation = Simulation(\n",
    "    spark=spark,\n",
    "    volume_path=dbutils.widgets.get(\"volume_path\"),\n",
    "    passenger_table=dbutils.widgets.get(\"passenger_table\"),\n",
    "    flight_table=dbutils.widgets.get(\"flight_table\"),\n",
    "    gate_table=dbutils.widgets.get(\"gate_table\"),\n",
    "    events_per_batch=150,\n",
    "    interval_sec=10,\n",
    "    num_batches=10\n",
    ")\n",
    "simulation.run()"
   ]
  },
  {
   "cell_type": "code",
   "execution_count": 0,
   "metadata": {
    "application/vnd.databricks.v1+cell": {
     "cellMetadata": {},
     "inputWidgets": {},
     "nuid": "c53436f4-ec61-4e44-be7e-e1e4af21799a",
     "showTitle": false,
     "tableResultSettingsMap": {},
     "title": ""
    }
   },
   "outputs": [],
   "source": []
  }
 ],
 "metadata": {
  "application/vnd.databricks.v1+notebook": {
   "computePreferences": null,
   "dashboards": [],
   "environmentMetadata": {
    "base_environment": "",
    "environment_version": "2"
   },
   "inputWidgetPreferences": null,
   "language": "python",
   "notebookMetadata": {
    "mostRecentlyExecutedCommandWithImplicitDF": {
     "commandId": -1,
     "dataframes": [
      "_sqldf"
     ]
    },
    "pythonIndentUnit": 2
   },
   "notebookName": "generate_baggage_data",
   "widgets": {
    "flight_table": {
     "currentValue": "gshen_catalog.yvr_airport.flight_details_yvr",
     "nuid": "8773f127-da21-4d3a-a4b7-27052f974706",
     "typedWidgetInfo": {
      "autoCreated": false,
      "defaultValue": "gshen_catalog.yvr_airport.flight_details_yvr",
      "label": "Flight Table",
      "name": "flight_table",
      "options": {
       "widgetDisplayType": "Text",
       "validationRegex": null
      },
      "parameterDataType": "String"
     },
     "widgetInfo": {
      "widgetType": "text",
      "defaultValue": "gshen_catalog.yvr_airport.flight_details_yvr",
      "label": "Flight Table",
      "name": "flight_table",
      "options": {
       "widgetType": "text",
       "autoCreated": null,
       "validationRegex": null
      }
     }
    },
    "gate_table": {
     "currentValue": "gshen_catalog.yvr_airport.gate_assignments_yvr",
     "nuid": "e711a7ad-09b2-42f7-a4e6-cc5c9e4ff5c1",
     "typedWidgetInfo": {
      "autoCreated": false,
      "defaultValue": "gshen_catalog.yvr_airport.gate_assignments_yvr",
      "label": "Gate Table",
      "name": "gate_table",
      "options": {
       "widgetDisplayType": "Text",
       "validationRegex": null
      },
      "parameterDataType": "String"
     },
     "widgetInfo": {
      "widgetType": "text",
      "defaultValue": "gshen_catalog.yvr_airport.gate_assignments_yvr",
      "label": "Gate Table",
      "name": "gate_table",
      "options": {
       "widgetType": "text",
       "autoCreated": null,
       "validationRegex": null
      }
     }
    },
    "passenger_table": {
     "currentValue": "gshen_catalog.yvr_airport.passenger_details_yvr",
     "nuid": "e3d68134-df9e-4d04-98bb-7e99dd23df8b",
     "typedWidgetInfo": {
      "autoCreated": false,
      "defaultValue": "gshen_catalog.yvr_airport.passenger_details_yvr",
      "label": "Passenger Table",
      "name": "passenger_table",
      "options": {
       "widgetDisplayType": "Text",
       "validationRegex": null
      },
      "parameterDataType": "String"
     },
     "widgetInfo": {
      "widgetType": "text",
      "defaultValue": "gshen_catalog.yvr_airport.passenger_details_yvr",
      "label": "Passenger Table",
      "name": "passenger_table",
      "options": {
       "widgetType": "text",
       "autoCreated": null,
       "validationRegex": null
      }
     }
    },
    "volume_path": {
     "currentValue": "/Volumes/gshen_catalog/yvr_airport/bag_files/",
     "nuid": "71418788-7dbf-4545-bca8-488bd5b9077f",
     "typedWidgetInfo": {
      "autoCreated": false,
      "defaultValue": "/Volumes/gshen_catalog/yvr_airport/bag_files/",
      "label": "Volume Path",
      "name": "volume_path",
      "options": {
       "widgetDisplayType": "Text",
       "validationRegex": null
      },
      "parameterDataType": "String"
     },
     "widgetInfo": {
      "widgetType": "text",
      "defaultValue": "/Volumes/gshen_catalog/yvr_airport/bag_files/",
      "label": "Volume Path",
      "name": "volume_path",
      "options": {
       "widgetType": "text",
       "autoCreated": null,
       "validationRegex": null
      }
     }
    }
   }
  },
  "language_info": {
   "name": "python"
  }
 },
 "nbformat": 4,
 "nbformat_minor": 0
}
