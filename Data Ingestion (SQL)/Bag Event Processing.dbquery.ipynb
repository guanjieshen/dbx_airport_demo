{
 "cells": [
  {
   "cell_type": "code",
   "execution_count": 0,
   "metadata": {
    "application/vnd.databricks.v1+cell": {
     "cellMetadata": {
      "byteLimit": 10485760,
      "rowLimit": 1000
     },
     "inputWidgets": {},
     "nuid": "7368f17a-8809-4412-b49a-d13f63b9037b",
     "showTitle": false,
     "tableResultSettingsMap": {},
     "title": ""
    }
   },
   "outputs": [],
   "source": [
    "-- Select data directly from the Unity Catalog Volumes using SQL\n",
    "SELECT * FROM read_files(\n",
    "  '/Volumes/gshen_catalog/yvr_airport/bag_files',\n",
    "  format => 'csv',\n",
    "  header => true,\n",
    "  mode => 'FAILFAST');\n",
    "\n",
    "-- Create or refresh a streaming table to process the data within the Volume\n",
    "CREATE OR REFRESH STREAMING TABLE gshen_catalog.yvr_airport.baggage_data_stream AS\n",
    "SELECT * FROM STREAM read_files(\n",
    "  '/Volumes/gshen_catalog/yvr_airport/bag_files',\n",
    "  format => 'csv',\n",
    "  header => true,\n",
    "  mode => 'FAILFAST');\n",
    "\n",
    "-- Select data from the streaming table and order by event_time in descending order\n",
    "SELECT * FROM gshen_catalog.yvr_airport.baggage_data_stream ORDER BY event_time desc;\n",
    "\n",
    "-- Refresh the streaming table\n",
    "REFRESH STREAMING TABLE gshen_catalog.yvr_airport.baggage_data_stream;"
   ]
  }
 ],
 "metadata": {
  "application/vnd.databricks.v1+notebook": {
   "computePreferences": null,
   "dashboards": [],
   "environmentMetadata": null,
   "inputWidgetPreferences": null,
   "language": "sql",
   "notebookMetadata": {
    "sqlQueryOptions": {
     "applyAutoLimit": true,
     "catalog": "main",
     "schema": "?"
    }
   },
   "notebookName": "Bag Event Processing.dbquery.ipynb",
   "widgets": {}
  },
  "language_info": {
   "name": "sql"
  }
 },
 "nbformat": 4,
 "nbformat_minor": 0
}
