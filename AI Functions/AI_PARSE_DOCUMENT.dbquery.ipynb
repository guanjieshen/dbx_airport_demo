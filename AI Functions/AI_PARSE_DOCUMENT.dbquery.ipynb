{
 "cells": [
  {
   "cell_type": "code",
   "execution_count": 0,
   "metadata": {
    "application/vnd.databricks.v1+cell": {
     "cellMetadata": {
      "byteLimit": 10485760,
      "rowLimit": 1000
     },
     "inputWidgets": {},
     "nuid": "3158a375-019c-4642-8b82-f6f0406cfa49",
     "showTitle": false,
     "tableResultSettingsMap": {},
     "title": ""
    }
   },
   "outputs": [],
   "source": [
    "-- Query to read PDFs from the specified path and parse their content using ai_parse_document function\n",
    "CREATE OR REPLACE TABLE gshen_catalog.yvr_airport.parsed_pdf AS(\n",
    "SELECT\n",
    "  path,\n",
    "  ai_parse_document(content) parsed_content\n",
    "FROM READ_FILES('/Volumes/gshen_catalog/yvr_airport/pdfs', format => 'binaryFile'));\n",
    "\n",
    "-- Explode the data into individual rows\n",
    "SELECT\n",
    "  path,\n",
    "  exploded_elements.pos,\n",
    "  exploded_elements.value:content\n",
    "FROM gshen_catalog.yvr_airport.parsed_pdf as t,\n",
    "LATERAL variant_explode_outer(t.parsed_content:document:elements) as exploded_elements\n",
    "\n",
    "-- Turn it into a table and enable CDC\n",
    "-- Create a table with one row per PDF element, including file path, element position, and content text\n",
    "CREATE OR REPLACE TABLE gshen_catalog.yvr_airport.parsed_pdf_chunked AS\n",
    "(\n",
    "  SELECT\n",
    "    path, -- File path of the PDF\n",
    "    exploded_elements.pos, -- Position of the element within the document\n",
    "    CAST(exploded_elements.value:content AS STRING) AS content -- Extracted text content of the element\n",
    "  FROM gshen_catalog.yvr_airport.parsed_pdf AS t,\n",
    "  LATERAL variant_explode_outer(t.parsed_content:document:elements) AS exploded_elements -- Explode elements array into rows\n",
    ")\n",
    "\n",
    "ALTER TABLE `gshen_catalog`.`yvr_airport`.`parsed_pdf_chunked` SET TBLPROPERTIES (delta.enableChangeDataFeed = true)\n"
   ]
  }
 ],
 "metadata": {
  "application/vnd.databricks.v1+notebook": {
   "computePreferences": null,
   "dashboards": [],
   "environmentMetadata": null,
   "inputWidgetPreferences": null,
   "language": "sql",
   "notebookMetadata": {
    "sqlQueryOptions": {
     "applyAutoLimit": true,
     "catalog": "users",
     "schema": "_data_classification"
    }
   },
   "notebookName": "AI_PARSE_DOCUMENT.dbquery.ipynb",
   "widgets": {}
  },
  "language_info": {
   "name": "sql"
  }
 },
 "nbformat": 4,
 "nbformat_minor": 0
}
